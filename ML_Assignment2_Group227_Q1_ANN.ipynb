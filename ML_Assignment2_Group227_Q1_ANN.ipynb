{
 "cells": [
  {
   "cell_type": "markdown",
   "metadata": {},
   "source": [
    "<img src=\"https://idp.bits-pilani.ac.in/idp/login_files/logo.gif\">\n",
    "\n",
    "\n",
    "<h1><center> ML Assignment Number 2-Q1_Group 227</center></h1>"
   ]
  },
  {
   "cell_type": "markdown",
   "metadata": {},
   "source": [
    "### Objective and the Data \n",
    "\n",
    "In this assignment we are working with a dummy advertising data set, indicating whether or not a particular internet user clicked on an Advertisement on a company website. We have created a model that will predict whether or not they will click on an ad based on the features of that user. The accuracy of the model is calculated using the test data.\n",
    "\n",
    "This data set contains the following features:\n",
    "\n",
    "        Daily Time Spent on Site : consumer time on site in minutes\n",
    "\n",
    "        Age : customer age in years\n",
    "\n",
    "        Area Income': Avg. Income of geographical area of consumer\n",
    "\n",
    "        Daily Internet Usage': Avg. minutes a day consumer is on the internet\n",
    "\n",
    "        Ad Topic Line': Headline of the advertisement\n",
    "\n",
    "        City: City of consumer\n",
    "\n",
    "        Male: Whether or not consumer was male\n",
    "\n",
    "        Country : Country of consumer\n",
    "\n",
    "        Timestamp : Time at which consumer clicked on Ad or closed window\n",
    "        \n",
    "And the following one is the target :\n",
    "\n",
    "        Clicked on Ad : 0 or 1 indicated clicking on Ad\n"
   ]
  },
  {
   "cell_type": "markdown",
   "metadata": {},
   "source": [
    "## Importing the Libraries\n",
    "\n"
   ]
  },
  {
   "cell_type": "code",
   "execution_count": 1,
   "metadata": {},
   "outputs": [],
   "source": [
    "import numpy as np\n",
    "import pandas as pd\n",
    "import keras\n",
    "from keras.models import Sequential\n",
    "from keras.layers import Dense\n",
    "from sklearn import preprocessing"
   ]
  },
  {
   "cell_type": "markdown",
   "metadata": {},
   "source": [
    "## Loading the Dataset and printing a sample data\n"
   ]
  },
  {
   "cell_type": "code",
   "execution_count": 2,
   "metadata": {},
   "outputs": [
    {
     "name": "stdout",
     "output_type": "stream",
     "text": [
      "\n",
      " Loading the dataset\n",
      "\n",
      " Printing the first few lines of the dataset\n",
      "   Daily Time Spent on Site  Age  Area Income  Daily Internet Usage  \\\n",
      "0                     80.23   31     68441.85                193.77   \n",
      "1                     69.47   26     59785.94                236.50   \n",
      "2                     74.15   29     54806.18                245.89   \n",
      "3                     68.37   35     73889.99                225.58   \n",
      "4                     59.99   23     59761.56                226.74   \n",
      "\n",
      "                           Ad Topic Line            City  Male     Country  \\\n",
      "0     Monitored national standardization       West Jodi     1       Nauru   \n",
      "1       Organic bottom-line service-desk        Davidton     0  San Marino   \n",
      "2  Triple-buffered reciprocal time-frame  West Terrifurt     1       Italy   \n",
      "3          Robust logistical utilization    South Manuel     0     Iceland   \n",
      "4        Sharable client-driven software       Jamieberg     1      Norway   \n",
      "\n",
      "             Timestamp  Clicked on Ad  \n",
      "0  2016-04-04 01:39:02              0  \n",
      "1  2016-03-13 20:35:42              0  \n",
      "2  2016-01-10 02:31:19              0  \n",
      "3  2016-06-03 03:36:18              0  \n",
      "4  2016-05-19 14:30:17              0  \n"
     ]
    }
   ],
   "source": [
    "#dataset import\n",
    "print(\"\\n Loading the dataset\")\n",
    "dataset = pd.read_csv('advertising-1.csv', skiprows=1, delimiter=',')\n",
    "dataset.columns = ['Daily Time Spent on Site', 'Age', 'Area Income', 'Daily Internet Usage', 'Ad Topic Line', 'City', \n",
    "                   'Male', 'Country', 'Timestamp', 'Clicked on Ad']\n",
    "\n",
    "print(\"\\n Printing the first few lines of the dataset\")\n",
    "print(dataset.head())"
   ]
  },
  {
   "cell_type": "markdown",
   "metadata": {},
   "source": [
    "## Splitting features and labels"
   ]
  },
  {
   "cell_type": "code",
   "execution_count": 3,
   "metadata": {},
   "outputs": [
    {
     "name": "stdout",
     "output_type": "stream",
     "text": [
      "\n",
      " Normalizing the feature data\n"
     ]
    }
   ],
   "source": [
    "# Encoding and segregating the feature and target columns\n",
    "le = preprocessing.LabelEncoder()\n",
    "Ad_Topic_Line_Cat = le.fit_transform(dataset['Ad Topic Line'])\n",
    "City_Cat = le.fit_transform(dataset['City'])\n",
    "Country_Cat = le.fit_transform(dataset['Country'])\n",
    "Timestamp_Cat = le.fit_transform(dataset['Timestamp'])\n",
    "\n",
    "#Creating a backup dataframe\n",
    "dataset_backup = dataset.copy()\n",
    "\n",
    "dataset['Ad Topic Line_Cat'] = Ad_Topic_Line_Cat\n",
    "dataset['City_Cat'] = City_Cat\n",
    "dataset['Country_Cat'] = Country_Cat\n",
    "dataset['Timestamp_Cat'] = Timestamp_Cat\n",
    "\n",
    "dataset = dataset.reindex(['Daily Time Spent on Site', 'Age', 'Area Income', 'Daily Internet Usage', 'Ad Topic Line_Cat', \n",
    "                          'City_Cat', 'Male', 'Country_Cat', 'Timestamp_Cat', 'Clicked on Ad'],axis=1)\n",
    "\n",
    "\n",
    "feature_cols = ['Daily Time Spent on Site', 'Age', 'Area Income', 'Daily Internet Usage', 'Ad Topic Line_Cat', \n",
    "                          'City_Cat', 'Male', 'Country_Cat', 'Timestamp_Cat']\n",
    "\n",
    "X = dataset[feature_cols]\n",
    "y = dataset['Clicked on Ad']\n",
    "\n",
    "print(\"\\n Normalizing the feature data\")\n",
    "sc = preprocessing.StandardScaler()\n",
    "X = sc.fit_transform(X)\n"
   ]
  },
  {
   "cell_type": "markdown",
   "metadata": {},
   "source": [
    "## Splitting Train and Test Data"
   ]
  },
  {
   "cell_type": "code",
   "execution_count": 4,
   "metadata": {},
   "outputs": [],
   "source": [
    "#train - test split\n",
    "from sklearn.model_selection import train_test_split\n",
    "X_train,X_test,y_train,y_test = train_test_split(X,y,test_size = 0.3)"
   ]
  },
  {
   "cell_type": "markdown",
   "metadata": {},
   "source": [
    "## Implementing ANN Classifier using Keras"
   ]
  },
  {
   "cell_type": "code",
   "execution_count": 5,
   "metadata": {},
   "outputs": [
    {
     "name": "stdout",
     "output_type": "stream",
     "text": [
      "Epoch 1/100\n",
      "22/22 [==============================] - 2s 37ms/step - loss: 0.6864 - accuracy: 0.5024 - val_loss: 0.6697 - val_accuracy: 0.5333\n",
      "Epoch 2/100\n",
      "22/22 [==============================] - 0s 5ms/step - loss: 0.6612 - accuracy: 0.5831 - val_loss: 0.6396 - val_accuracy: 0.5767\n",
      "Epoch 3/100\n",
      "22/22 [==============================] - 0s 4ms/step - loss: 0.6248 - accuracy: 0.6178 - val_loss: 0.6075 - val_accuracy: 0.6100\n",
      "Epoch 4/100\n",
      "22/22 [==============================] - 0s 4ms/step - loss: 0.5951 - accuracy: 0.6794 - val_loss: 0.5749 - val_accuracy: 0.6667\n",
      "Epoch 5/100\n",
      "22/22 [==============================] - 0s 5ms/step - loss: 0.5712 - accuracy: 0.6930 - val_loss: 0.5442 - val_accuracy: 0.7467\n",
      "Epoch 6/100\n",
      "22/22 [==============================] - 0s 4ms/step - loss: 0.5460 - accuracy: 0.7602 - val_loss: 0.5145 - val_accuracy: 0.8000\n",
      "Epoch 7/100\n",
      "22/22 [==============================] - 0s 8ms/step - loss: 0.4905 - accuracy: 0.8179 - val_loss: 0.4867 - val_accuracy: 0.8267\n",
      "Epoch 8/100\n",
      "22/22 [==============================] - 0s 5ms/step - loss: 0.4591 - accuracy: 0.8604 - val_loss: 0.4628 - val_accuracy: 0.8567\n",
      "Epoch 9/100\n",
      "22/22 [==============================] - 0s 5ms/step - loss: 0.4666 - accuracy: 0.8708 - val_loss: 0.4425 - val_accuracy: 0.8867\n",
      "Epoch 10/100\n",
      "22/22 [==============================] - 0s 4ms/step - loss: 0.4502 - accuracy: 0.8929 - val_loss: 0.4242 - val_accuracy: 0.9033\n",
      "Epoch 11/100\n",
      "22/22 [==============================] - 0s 4ms/step - loss: 0.4122 - accuracy: 0.9040 - val_loss: 0.4079 - val_accuracy: 0.9100\n",
      "Epoch 12/100\n",
      "22/22 [==============================] - 0s 5ms/step - loss: 0.4169 - accuracy: 0.9093 - val_loss: 0.3941 - val_accuracy: 0.9300\n",
      "Epoch 13/100\n",
      "22/22 [==============================] - 0s 4ms/step - loss: 0.3798 - accuracy: 0.9319 - val_loss: 0.3820 - val_accuracy: 0.9333\n",
      "Epoch 14/100\n",
      "22/22 [==============================] - 0s 5ms/step - loss: 0.3807 - accuracy: 0.9373 - val_loss: 0.3716 - val_accuracy: 0.9367\n",
      "Epoch 15/100\n",
      "22/22 [==============================] - 0s 4ms/step - loss: 0.3561 - accuracy: 0.9402 - val_loss: 0.3622 - val_accuracy: 0.9433\n",
      "Epoch 16/100\n",
      "22/22 [==============================] - 0s 5ms/step - loss: 0.3460 - accuracy: 0.9435 - val_loss: 0.3532 - val_accuracy: 0.9433\n",
      "Epoch 17/100\n",
      "22/22 [==============================] - 0s 5ms/step - loss: 0.3604 - accuracy: 0.9283 - val_loss: 0.3462 - val_accuracy: 0.9467\n",
      "Epoch 18/100\n",
      "22/22 [==============================] - 0s 4ms/step - loss: 0.3375 - accuracy: 0.9419 - val_loss: 0.3386 - val_accuracy: 0.9533\n",
      "Epoch 19/100\n",
      "22/22 [==============================] - 0s 4ms/step - loss: 0.3338 - accuracy: 0.9527 - val_loss: 0.3322 - val_accuracy: 0.9533\n",
      "Epoch 20/100\n",
      "22/22 [==============================] - 0s 5ms/step - loss: 0.3444 - accuracy: 0.9531 - val_loss: 0.3260 - val_accuracy: 0.9533\n",
      "Epoch 21/100\n",
      "22/22 [==============================] - 0s 5ms/step - loss: 0.3306 - accuracy: 0.9545 - val_loss: 0.3196 - val_accuracy: 0.9533\n",
      "Epoch 22/100\n",
      "22/22 [==============================] - 0s 5ms/step - loss: 0.3134 - accuracy: 0.9603 - val_loss: 0.3141 - val_accuracy: 0.9533\n",
      "Epoch 23/100\n",
      "22/22 [==============================] - 0s 4ms/step - loss: 0.3163 - accuracy: 0.9596 - val_loss: 0.3088 - val_accuracy: 0.9600\n",
      "Epoch 24/100\n",
      "22/22 [==============================] - 0s 5ms/step - loss: 0.2899 - accuracy: 0.9596 - val_loss: 0.3039 - val_accuracy: 0.9667\n",
      "Epoch 25/100\n",
      "22/22 [==============================] - 0s 5ms/step - loss: 0.2950 - accuracy: 0.9552 - val_loss: 0.2992 - val_accuracy: 0.9667\n",
      "Epoch 26/100\n",
      "22/22 [==============================] - 0s 5ms/step - loss: 0.3041 - accuracy: 0.9591 - val_loss: 0.2946 - val_accuracy: 0.9667\n",
      "Epoch 27/100\n",
      "22/22 [==============================] - 0s 5ms/step - loss: 0.2896 - accuracy: 0.9649 - val_loss: 0.2899 - val_accuracy: 0.9667\n",
      "Epoch 28/100\n",
      "22/22 [==============================] - 0s 5ms/step - loss: 0.2763 - accuracy: 0.9630 - val_loss: 0.2857 - val_accuracy: 0.9667\n",
      "Epoch 29/100\n",
      "22/22 [==============================] - 0s 4ms/step - loss: 0.2957 - accuracy: 0.9596 - val_loss: 0.2819 - val_accuracy: 0.9667\n",
      "Epoch 30/100\n",
      "22/22 [==============================] - 0s 5ms/step - loss: 0.2736 - accuracy: 0.9664 - val_loss: 0.2778 - val_accuracy: 0.9633\n",
      "Epoch 31/100\n",
      "22/22 [==============================] - 0s 4ms/step - loss: 0.2675 - accuracy: 0.9699 - val_loss: 0.2738 - val_accuracy: 0.9667\n",
      "Epoch 32/100\n",
      "22/22 [==============================] - 0s 5ms/step - loss: 0.2750 - accuracy: 0.9708 - val_loss: 0.2703 - val_accuracy: 0.9667\n",
      "Epoch 33/100\n",
      "22/22 [==============================] - 0s 4ms/step - loss: 0.2375 - accuracy: 0.9833 - val_loss: 0.2661 - val_accuracy: 0.9667\n",
      "Epoch 34/100\n",
      "22/22 [==============================] - 0s 4ms/step - loss: 0.2701 - accuracy: 0.9806 - val_loss: 0.2632 - val_accuracy: 0.9700\n",
      "Epoch 35/100\n",
      "22/22 [==============================] - 0s 5ms/step - loss: 0.2609 - accuracy: 0.9738 - val_loss: 0.2597 - val_accuracy: 0.9700\n",
      "Epoch 36/100\n",
      "22/22 [==============================] - 0s 7ms/step - loss: 0.2646 - accuracy: 0.9730 - val_loss: 0.2564 - val_accuracy: 0.9700\n",
      "Epoch 37/100\n",
      "22/22 [==============================] - 0s 6ms/step - loss: 0.2508 - accuracy: 0.9794 - val_loss: 0.2530 - val_accuracy: 0.9700\n",
      "Epoch 38/100\n",
      "22/22 [==============================] - 0s 4ms/step - loss: 0.2492 - accuracy: 0.9743 - val_loss: 0.2498 - val_accuracy: 0.9700\n",
      "Epoch 39/100\n",
      "22/22 [==============================] - 0s 4ms/step - loss: 0.2858 - accuracy: 0.9622 - val_loss: 0.2468 - val_accuracy: 0.9700\n",
      "Epoch 40/100\n",
      "22/22 [==============================] - 0s 4ms/step - loss: 0.2284 - accuracy: 0.9836 - val_loss: 0.2436 - val_accuracy: 0.9700\n",
      "Epoch 41/100\n",
      "22/22 [==============================] - 0s 4ms/step - loss: 0.2619 - accuracy: 0.9703 - val_loss: 0.2409 - val_accuracy: 0.9700\n",
      "Epoch 42/100\n",
      "22/22 [==============================] - 0s 4ms/step - loss: 0.2683 - accuracy: 0.9669 - val_loss: 0.2379 - val_accuracy: 0.9700\n",
      "Epoch 43/100\n",
      "22/22 [==============================] - 0s 5ms/step - loss: 0.2354 - accuracy: 0.9762 - val_loss: 0.2353 - val_accuracy: 0.9700\n",
      "Epoch 44/100\n",
      "22/22 [==============================] - 0s 4ms/step - loss: 0.2347 - accuracy: 0.9733 - val_loss: 0.2326 - val_accuracy: 0.9700\n",
      "Epoch 45/100\n",
      "22/22 [==============================] - 0s 5ms/step - loss: 0.2437 - accuracy: 0.9755 - val_loss: 0.2303 - val_accuracy: 0.9700\n",
      "Epoch 46/100\n",
      "22/22 [==============================] - 0s 4ms/step - loss: 0.2225 - accuracy: 0.9794 - val_loss: 0.2274 - val_accuracy: 0.9700\n",
      "Epoch 47/100\n",
      "22/22 [==============================] - 0s 5ms/step - loss: 0.2301 - accuracy: 0.9774 - val_loss: 0.2250 - val_accuracy: 0.9700\n",
      "Epoch 48/100\n",
      "22/22 [==============================] - 0s 5ms/step - loss: 0.2175 - accuracy: 0.9796 - val_loss: 0.2227 - val_accuracy: 0.9700\n",
      "Epoch 49/100\n",
      "22/22 [==============================] - 0s 4ms/step - loss: 0.2403 - accuracy: 0.9754 - val_loss: 0.2205 - val_accuracy: 0.9700\n",
      "Epoch 50/100\n",
      "22/22 [==============================] - 0s 5ms/step - loss: 0.2336 - accuracy: 0.9683 - val_loss: 0.2184 - val_accuracy: 0.9700\n",
      "Epoch 51/100\n",
      "22/22 [==============================] - 0s 4ms/step - loss: 0.2230 - accuracy: 0.9691 - val_loss: 0.2159 - val_accuracy: 0.9700\n",
      "Epoch 52/100\n",
      "22/22 [==============================] - 0s 5ms/step - loss: 0.2189 - accuracy: 0.9804 - val_loss: 0.2135 - val_accuracy: 0.9700\n",
      "Epoch 53/100\n",
      "22/22 [==============================] - 0s 5ms/step - loss: 0.2374 - accuracy: 0.9780 - val_loss: 0.2114 - val_accuracy: 0.9700\n",
      "Epoch 54/100\n",
      "22/22 [==============================] - 0s 4ms/step - loss: 0.2231 - accuracy: 0.9767 - val_loss: 0.2095 - val_accuracy: 0.9733\n",
      "Epoch 55/100\n",
      "22/22 [==============================] - 0s 4ms/step - loss: 0.2039 - accuracy: 0.9804 - val_loss: 0.2074 - val_accuracy: 0.9733\n",
      "Epoch 56/100\n",
      "22/22 [==============================] - 0s 5ms/step - loss: 0.2219 - accuracy: 0.9721 - val_loss: 0.2054 - val_accuracy: 0.9733\n",
      "Epoch 57/100\n",
      "22/22 [==============================] - 0s 5ms/step - loss: 0.2352 - accuracy: 0.9679 - val_loss: 0.2039 - val_accuracy: 0.9733\n",
      "Epoch 58/100\n",
      "22/22 [==============================] - 0s 5ms/step - loss: 0.2139 - accuracy: 0.9729 - val_loss: 0.2019 - val_accuracy: 0.9733\n",
      "Epoch 59/100\n",
      "22/22 [==============================] - 0s 4ms/step - loss: 0.2417 - accuracy: 0.9702 - val_loss: 0.2000 - val_accuracy: 0.9733\n",
      "Epoch 60/100\n",
      "22/22 [==============================] - 0s 4ms/step - loss: 0.2242 - accuracy: 0.9704 - val_loss: 0.1980 - val_accuracy: 0.9733\n",
      "Epoch 61/100\n",
      "22/22 [==============================] - 0s 4ms/step - loss: 0.2066 - accuracy: 0.9731 - val_loss: 0.1962 - val_accuracy: 0.9733\n",
      "Epoch 62/100\n",
      "22/22 [==============================] - 0s 4ms/step - loss: 0.1847 - accuracy: 0.9828 - val_loss: 0.1940 - val_accuracy: 0.9733\n",
      "Epoch 63/100\n",
      "22/22 [==============================] - 0s 4ms/step - loss: 0.2053 - accuracy: 0.9755 - val_loss: 0.1927 - val_accuracy: 0.9733\n",
      "Epoch 64/100\n",
      "22/22 [==============================] - 0s 4ms/step - loss: 0.2262 - accuracy: 0.9674 - val_loss: 0.1914 - val_accuracy: 0.9733\n",
      "Epoch 65/100\n",
      "22/22 [==============================] - 0s 4ms/step - loss: 0.1665 - accuracy: 0.9821 - val_loss: 0.1888 - val_accuracy: 0.9733\n",
      "Epoch 66/100\n",
      "22/22 [==============================] - 0s 4ms/step - loss: 0.2067 - accuracy: 0.9723 - val_loss: 0.1880 - val_accuracy: 0.9767\n",
      "Epoch 67/100\n",
      "22/22 [==============================] - 0s 4ms/step - loss: 0.1723 - accuracy: 0.9802 - val_loss: 0.1863 - val_accuracy: 0.9767\n",
      "Epoch 68/100\n",
      "22/22 [==============================] - 0s 5ms/step - loss: 0.1773 - accuracy: 0.9836 - val_loss: 0.1847 - val_accuracy: 0.9733\n",
      "Epoch 69/100\n",
      "22/22 [==============================] - 0s 4ms/step - loss: 0.2031 - accuracy: 0.9738 - val_loss: 0.1834 - val_accuracy: 0.9733\n",
      "Epoch 70/100\n",
      "22/22 [==============================] - 0s 7ms/step - loss: 0.2120 - accuracy: 0.9694 - val_loss: 0.1818 - val_accuracy: 0.9733\n",
      "Epoch 71/100\n",
      "22/22 [==============================] - 0s 4ms/step - loss: 0.1677 - accuracy: 0.9853 - val_loss: 0.1800 - val_accuracy: 0.9733\n",
      "Epoch 72/100\n",
      "22/22 [==============================] - 0s 4ms/step - loss: 0.1832 - accuracy: 0.9823 - val_loss: 0.1785 - val_accuracy: 0.9733\n",
      "Epoch 73/100\n",
      "22/22 [==============================] - 0s 6ms/step - loss: 0.1890 - accuracy: 0.9751 - val_loss: 0.1772 - val_accuracy: 0.9733\n",
      "Epoch 74/100\n",
      "22/22 [==============================] - 0s 4ms/step - loss: 0.2046 - accuracy: 0.9717 - val_loss: 0.1761 - val_accuracy: 0.9733\n",
      "Epoch 75/100\n",
      "22/22 [==============================] - 0s 4ms/step - loss: 0.1837 - accuracy: 0.9694 - val_loss: 0.1743 - val_accuracy: 0.9733\n",
      "Epoch 76/100\n",
      "22/22 [==============================] - 0s 5ms/step - loss: 0.1939 - accuracy: 0.9678 - val_loss: 0.1732 - val_accuracy: 0.9733\n",
      "Epoch 77/100\n",
      "22/22 [==============================] - 0s 6ms/step - loss: 0.1718 - accuracy: 0.9791 - val_loss: 0.1714 - val_accuracy: 0.9733\n",
      "Epoch 78/100\n",
      "22/22 [==============================] - 0s 4ms/step - loss: 0.1738 - accuracy: 0.9743 - val_loss: 0.1704 - val_accuracy: 0.9733\n",
      "Epoch 79/100\n",
      "22/22 [==============================] - 0s 4ms/step - loss: 0.1573 - accuracy: 0.9804 - val_loss: 0.1689 - val_accuracy: 0.9733\n",
      "Epoch 80/100\n",
      "22/22 [==============================] - 0s 5ms/step - loss: 0.1640 - accuracy: 0.9813 - val_loss: 0.1679 - val_accuracy: 0.9733\n",
      "Epoch 81/100\n",
      "22/22 [==============================] - 0s 4ms/step - loss: 0.1748 - accuracy: 0.9773 - val_loss: 0.1670 - val_accuracy: 0.9733\n",
      "Epoch 82/100\n",
      "22/22 [==============================] - 0s 4ms/step - loss: 0.1585 - accuracy: 0.9855 - val_loss: 0.1652 - val_accuracy: 0.9733\n",
      "Epoch 83/100\n",
      "22/22 [==============================] - 0s 5ms/step - loss: 0.1729 - accuracy: 0.9774 - val_loss: 0.1644 - val_accuracy: 0.9733\n",
      "Epoch 84/100\n",
      "22/22 [==============================] - 0s 4ms/step - loss: 0.2158 - accuracy: 0.9608 - val_loss: 0.1633 - val_accuracy: 0.9767\n",
      "Epoch 85/100\n",
      "22/22 [==============================] - 0s 4ms/step - loss: 0.1877 - accuracy: 0.9607 - val_loss: 0.1618 - val_accuracy: 0.9767\n",
      "Epoch 86/100\n",
      "22/22 [==============================] - 0s 4ms/step - loss: 0.1602 - accuracy: 0.9750 - val_loss: 0.1606 - val_accuracy: 0.9767\n",
      "Epoch 87/100\n",
      "22/22 [==============================] - 0s 4ms/step - loss: 0.1697 - accuracy: 0.9782 - val_loss: 0.1595 - val_accuracy: 0.9767\n",
      "Epoch 88/100\n",
      "22/22 [==============================] - 0s 4ms/step - loss: 0.1789 - accuracy: 0.9677 - val_loss: 0.1585 - val_accuracy: 0.9767\n",
      "Epoch 89/100\n",
      "22/22 [==============================] - 0s 4ms/step - loss: 0.1642 - accuracy: 0.9736 - val_loss: 0.1569 - val_accuracy: 0.9767\n",
      "Epoch 90/100\n",
      "22/22 [==============================] - 0s 4ms/step - loss: 0.1516 - accuracy: 0.9752 - val_loss: 0.1556 - val_accuracy: 0.9767\n",
      "Epoch 91/100\n",
      "22/22 [==============================] - 0s 4ms/step - loss: 0.1641 - accuracy: 0.9726 - val_loss: 0.1547 - val_accuracy: 0.9767\n",
      "Epoch 92/100\n",
      "22/22 [==============================] - 0s 4ms/step - loss: 0.1774 - accuracy: 0.9688 - val_loss: 0.1537 - val_accuracy: 0.9767\n",
      "Epoch 93/100\n",
      "22/22 [==============================] - 0s 4ms/step - loss: 0.1594 - accuracy: 0.9772 - val_loss: 0.1523 - val_accuracy: 0.9767\n",
      "Epoch 94/100\n",
      "22/22 [==============================] - 0s 4ms/step - loss: 0.1926 - accuracy: 0.9683 - val_loss: 0.1519 - val_accuracy: 0.9767\n",
      "Epoch 95/100\n",
      "22/22 [==============================] - 0s 4ms/step - loss: 0.1767 - accuracy: 0.9734 - val_loss: 0.1505 - val_accuracy: 0.9767\n",
      "Epoch 96/100\n",
      "22/22 [==============================] - 0s 4ms/step - loss: 0.1654 - accuracy: 0.9651 - val_loss: 0.1497 - val_accuracy: 0.9767\n",
      "Epoch 97/100\n",
      "22/22 [==============================] - 0s 4ms/step - loss: 0.1526 - accuracy: 0.9802 - val_loss: 0.1486 - val_accuracy: 0.9767\n",
      "Epoch 98/100\n",
      "22/22 [==============================] - 0s 7ms/step - loss: 0.1527 - accuracy: 0.9737 - val_loss: 0.1476 - val_accuracy: 0.9767\n",
      "Epoch 99/100\n",
      "22/22 [==============================] - 0s 4ms/step - loss: 0.1546 - accuracy: 0.9798 - val_loss: 0.1465 - val_accuracy: 0.9767\n",
      "Epoch 100/100\n",
      "22/22 [==============================] - 0s 4ms/step - loss: 0.1547 - accuracy: 0.9745 - val_loss: 0.1457 - val_accuracy: 0.9767\n"
     ]
    }
   ],
   "source": [
    "# Neural network\n",
    "model = Sequential()\n",
    "model.add(Dense(6, input_dim=9, activation='relu'))\n",
    "model.add(Dense(4, activation='relu'))\n",
    "model.add(Dense(1, activation='sigmoid'))\n",
    "\n",
    "model.compile(loss='binary_crossentropy', optimizer='adam', metrics=['accuracy'])\n",
    "\n",
    "history = model.fit(X_train, y_train,validation_data = (X_test,y_test), epochs=100)\n",
    "\n",
    "y_pred = model.predict(X_test)"
   ]
  },
  {
   "cell_type": "markdown",
   "metadata": {},
   "source": [
    "## Justification of the model\n",
    "\n",
    "We have created a Sequential Model and add layers one at a time. In this assignment we have used a fully-connected network structure with three layers.Fully connected layers are defined using the Dense class. We specify the number of neurons or nodes in the layer as the first argument, and specify the activation function using the activation argument. The first layer must have the same number of input parameter as the number of features.\n",
    "\n",
    "We use the rectified linear unit activation function referred to as ReLU on the first two layers and the Sigmoid function in the output layer. It used to be the case that Sigmoid and Tanh activation functions were preferred for all layers. But Better performance is achieved using the ReLU activation function. We use a sigmoid on the output layer to ensure our network output is between 0 and 1 and easy to map to either a probability of class 1 or snap to a hard classification of either class with a default threshold of 0.5.\n",
    "\n",
    "The model expects rows of data with 9 variables (the input_dim=9 argument)\n",
    "The first hidden layer has 6 nodes and uses the relu activation function.\n",
    "The second hidden layer has 4 nodes and uses the relu activation function.\n",
    "The output layer has one node and uses the sigmoid activation function.\n"
   ]
  },
  {
   "cell_type": "markdown",
   "metadata": {},
   "source": [
    "## Calculating the Accuracy"
   ]
  },
  {
   "cell_type": "code",
   "execution_count": 6,
   "metadata": {},
   "outputs": [
    {
     "name": "stdout",
     "output_type": "stream",
     "text": [
      "10/10 [==============================] - 0s 3ms/step - loss: 0.1457 - accuracy: 0.9767\n",
      "Accuracy: 97.67\n"
     ]
    }
   ],
   "source": [
    "_,accuracy = model.evaluate(X_test, y_test)\n",
    "print('Accuracy: %.2f' % (accuracy*100))"
   ]
  },
  {
   "cell_type": "markdown",
   "metadata": {},
   "source": [
    "### We can see that the accuracy of the model is 97.67 % which indicates that this is robust model that can be used for  prediction"
   ]
  },
  {
   "cell_type": "code",
   "execution_count": null,
   "metadata": {},
   "outputs": [],
   "source": []
  }
 ],
 "metadata": {
  "kernelspec": {
   "display_name": "Python 3",
   "language": "python",
   "name": "python3"
  },
  "language_info": {
   "codemirror_mode": {
    "name": "ipython",
    "version": 3
   },
   "file_extension": ".py",
   "mimetype": "text/x-python",
   "name": "python",
   "nbconvert_exporter": "python",
   "pygments_lexer": "ipython3",
   "version": "3.7.6"
  }
 },
 "nbformat": 4,
 "nbformat_minor": 4
}
